{
  "nbformat": 4,
  "nbformat_minor": 0,
  "metadata": {
    "colab": {
      "name": "Untitled0.ipynb",
      "provenance": [],
      "collapsed_sections": [],
      "toc_visible": true,
      "authorship_tag": "ABX9TyNDZ1qtCfX0mlX034J/nCyX",
      "include_colab_link": true
    },
    "kernelspec": {
      "name": "python3",
      "display_name": "Python 3"
    },
    "language_info": {
      "name": "python"
    },
    "accelerator": "GPU"
  },
  "cells": [
    {
      "cell_type": "markdown",
      "metadata": {
        "id": "view-in-github",
        "colab_type": "text"
      },
      "source": [
        "<a href=\"https://colab.research.google.com/github/tahasama/recipe-api/blob/master/Untitled0.ipynb\" target=\"_parent\"><img src=\"https://colab.research.google.com/assets/colab-badge.svg\" alt=\"Open In Colab\"/></a>"
      ]
    },
    {
      "cell_type": "code",
      "metadata": {
        "colab": {
          "base_uri": "https://localhost:8080/"
        },
        "id": "rrKdooHNrkpm",
        "outputId": "c55f889e-9c79-4101-e6cf-f44b6c9687ea"
      },
      "source": [
        "print('thank you for this tool')"
      ],
      "execution_count": 27,
      "outputs": [
        {
          "output_type": "stream",
          "text": [
            "thank you for this tool\n"
          ],
          "name": "stdout"
        }
      ]
    },
    {
      "cell_type": "code",
      "metadata": {
        "id": "PhikEI5gxfQN"
      },
      "source": [
        "import pandas as pd"
      ],
      "execution_count": 28,
      "outputs": []
    },
    {
      "cell_type": "markdown",
      "metadata": {
        "id": "DY3z29vT3CEX"
      },
      "source": [
        "# Data Science\n",
        "\n",
        "\n"
      ]
    },
    {
      "cell_type": "code",
      "metadata": {
        "id": "P0fzpdnOxis1"
      },
      "source": [
        "df = pd.read_csv(\"train.csv\")"
      ],
      "execution_count": 29,
      "outputs": []
    },
    {
      "cell_type": "code",
      "metadata": {
        "id": "oKrgWYQyxkte"
      },
      "source": [
        "def get_title(name):\n",
        "    if '.' in name:\n",
        "        return name.split(',')[1].split('.')[0].strip()\n",
        "    else:\n",
        "        return 'Unknown'"
      ],
      "execution_count": 30,
      "outputs": []
    },
    {
      "cell_type": "code",
      "metadata": {
        "id": "zt2giAF5xm1X"
      },
      "source": [
        "titles = sorted(set([x for x in df.Name.map(lambda x: get_title(x))]))"
      ],
      "execution_count": 31,
      "outputs": []
    },
    {
      "cell_type": "code",
      "metadata": {
        "id": "MSLr8R7Pxq-e"
      },
      "source": [
        "def replace_titles(x):\n",
        "    title = x['Title']\n",
        "    if title in ['Capt', 'Col', 'Major']:\n",
        "        return 'Officer'\n",
        "    elif title in [\"Jonkheer\",\"Don\",'the Countess', 'Dona', 'Lady',\"Sir\"]:\n",
        "        return 'Royalty'\n",
        "    elif title in ['the Countess', 'Mme', 'Lady']:\n",
        "        return 'Mrs'\n",
        "    elif title in ['Mlle', 'Ms']:\n",
        "        return 'Miss'\n",
        "    else:\n",
        "        return title"
      ],
      "execution_count": 32,
      "outputs": []
    },
    {
      "cell_type": "code",
      "metadata": {
        "id": "8tHxgVbjx1SY"
      },
      "source": [
        "df['Title'] = df['Name'].map(lambda x: get_title(x))\n",
        "df['Title'] = df.apply(replace_titles, axis=1)"
      ],
      "execution_count": 33,
      "outputs": []
    },
    {
      "cell_type": "code",
      "metadata": {
        "id": "VZqYyMy1yTJn"
      },
      "source": [
        "df['Age'].fillna(df['Age'].median(), inplace=True)\n",
        "df['Fare'].fillna(df['Fare'].median(), inplace=True)\n",
        "df['Embarked'].fillna(\"S\", inplace=True)\n",
        "df.drop(\"Cabin\", axis=1, inplace=True)\n",
        "df.drop(\"Ticket\", axis=1, inplace=True)\n",
        "df.drop(\"Name\", axis=1, inplace=True)"
      ],
      "execution_count": 34,
      "outputs": []
    },
    {
      "cell_type": "code",
      "metadata": {
        "id": "eNI10Ilpyemv"
      },
      "source": [
        "df.Sex.replace(('male','female'), (0,1), inplace = True)\n",
        "df.Embarked.replace(('S','C','Q'), (0,1,2), inplace = True)\n",
        "df.Title.replace(('Mr','Miss','Mrs','Master','Dr','Rev','Officer','Royalty'), \n",
        "                 (0,1,2,3,4,5,6,7), inplace = True)"
      ],
      "execution_count": 35,
      "outputs": []
    },
    {
      "cell_type": "code",
      "metadata": {
        "colab": {
          "base_uri": "https://localhost:8080/"
        },
        "id": "Rs3WlpD5zEqd",
        "outputId": "3e570c92-ba8c-4421-b4d6-646a0365b380"
      },
      "source": [
        "corr = df.corr()\n",
        "corr.Survived.sort_values(ascending=True)"
      ],
      "execution_count": 36,
      "outputs": [
        {
          "output_type": "execute_result",
          "data": {
            "text/plain": [
              "Pclass        -0.338481\n",
              "Age           -0.064910\n",
              "SibSp         -0.035322\n",
              "PassengerId   -0.005007\n",
              "Parch          0.081629\n",
              "Embarked       0.106811\n",
              "Fare           0.257307\n",
              "Title          0.361340\n",
              "Sex            0.543351\n",
              "Survived       1.000000\n",
              "Name: Survived, dtype: float64"
            ]
          },
          "metadata": {
            "tags": []
          },
          "execution_count": 36
        }
      ]
    },
    {
      "cell_type": "markdown",
      "metadata": {
        "id": "nIPuR79m3whz"
      },
      "source": [
        "# Machine Learning"
      ]
    },
    {
      "cell_type": "code",
      "metadata": {
        "id": "1OwdeMEl33wj"
      },
      "source": [
        "from sklearn.model_selection import train_test_split\n",
        "import pickle\n",
        "from sklearn.ensemble import RandomForestClassifier"
      ],
      "execution_count": 37,
      "outputs": []
    },
    {
      "cell_type": "code",
      "metadata": {
        "id": "uXNT7mLk4FSv"
      },
      "source": [
        "predictors = df.drop(['Survived', 'PassengerId'], axis=1)\n",
        "target = df[\"Survived\"]\n",
        "x_train, x_val, y_train, y_val = train_test_split(\n",
        "                                        predictors, target, test_size = 0.22, random_state = 0)"
      ],
      "execution_count": 38,
      "outputs": []
    },
    {
      "cell_type": "code",
      "metadata": {
        "id": "OU6v1EdR4YQ3"
      },
      "source": [
        "randomforest = RandomForestClassifier()\n",
        "randomforest.fit(x_train, y_train)\n",
        "y_pred = randomforest.predict(x_val)"
      ],
      "execution_count": 39,
      "outputs": []
    },
    {
      "cell_type": "code",
      "metadata": {
        "id": "6qXLRKJACZED"
      },
      "source": [
        "filename = 'titanic_model.sav'\n",
        "pickle.dump(randomforest, open(filename, 'wb'))"
      ],
      "execution_count": 40,
      "outputs": []
    },
    {
      "cell_type": "code",
      "metadata": {
        "colab": {
          "base_uri": "https://localhost:8080/"
        },
        "id": "Alvya77WCxYj",
        "outputId": "cb99c8ee-e608-4f4c-fb5d-7ec53447e192"
      },
      "source": [
        "from sklearn.metrics import accuracy_score\n",
        "acc = round(accuracy_score(y_pred, y_val)*100, 2)\n",
        "print(acc)"
      ],
      "execution_count": 41,
      "outputs": [
        {
          "output_type": "stream",
          "text": [
            "84.26\n"
          ],
          "name": "stdout"
        }
      ]
    },
    {
      "cell_type": "code",
      "metadata": {
        "id": "44SRQhQmEQpF"
      },
      "source": [
        "df_test = pd.read_csv(\"test.csv\")\n",
        "\n",
        "df_test['Title'] = df_test['Name'].map(lambda x: get_title(x))\n",
        "df_test['Title'] = df_test.apply(replace_titles, axis=1)\n",
        "\n",
        "ids = df_test['PassengerId']\n",
        "\n",
        "df_test['Age'].fillna(df_test['Age'].median(), inplace=True)\n",
        "df_test['Fare'].fillna(df_test['Fare'].median(), inplace=True)\n",
        "df_test['Embarked'].fillna(\"S\", inplace=True)\n",
        "df_test.drop(\"Cabin\", axis=1, inplace=True)\n",
        "df_test.drop(\"Ticket\", axis=1, inplace=True)\n",
        "df_test.drop(\"Name\", axis=1, inplace=True)\n",
        "df_test.drop(\"PassengerId\", axis=1, inplace=True)\n",
        "df_test.Sex.replace(('male','female'), (0,1), inplace = True)\n",
        "df_test.Embarked.replace(('S','C','Q'), (0,1,2), inplace = True)\n",
        "df_test.Title.replace(('Mr','Miss','Mrs','Master','Dr','Rev','Officer','Royalty'), \n",
        "                 (0,1,2,3,4,5,6,7), inplace = True)"
      ],
      "execution_count": 42,
      "outputs": []
    },
    {
      "cell_type": "code",
      "metadata": {
        "id": "5WJ3l2faIwMX"
      },
      "source": [
        "predictions = randomforest.predict(df_test)\n",
        "output = pd.DataFrame({'PassengerId': ids, 'Survived': predictions})\n",
        "output.to_csv('submission.csv', index=False)"
      ],
      "execution_count": 43,
      "outputs": []
    },
    {
      "cell_type": "code",
      "metadata": {
        "id": "OWAorF87JbD7"
      },
      "source": [
        "# from google.colab import files\n",
        "# files.download('submission.csv')"
      ],
      "execution_count": 44,
      "outputs": []
    },
    {
      "cell_type": "markdown",
      "metadata": {
        "id": "NER33j0f_ag1"
      },
      "source": [
        "# Deep learning"
      ]
    },
    {
      "cell_type": "code",
      "metadata": {
        "id": "WsgAdCPV_aFB"
      },
      "source": [
        "from keras.models import Sequential\n",
        "from keras.layers import Dense, Dropout"
      ],
      "execution_count": 45,
      "outputs": []
    },
    {
      "cell_type": "code",
      "metadata": {
        "id": "hbTNAfCOK7t5"
      },
      "source": [
        "model = Sequential()\n",
        "model.add(Dense(32, activation='relu', input_shape=(8,)))\n",
        "model.add(Dropout(rate=0.2))\n",
        "model.add(Dense(64, activation='relu'))\n",
        "model.add(Dropout(rate=0.2))\n",
        "model.add(Dense(128, activation='relu'))\n",
        "model.add(Dropout(rate=0.2))\n",
        "model.add(Dense(64, activation='relu'))\n",
        "model.add(Dropout(rate=0.2))\n",
        "model.add(Dense(32, activation='relu'))\n",
        "model.add(Dense(1, activation='sigmoid'))\n",
        "\n",
        "model.compile(optimizer='adam', loss='binary_crossentropy', metrics=['accuracy'])"
      ],
      "execution_count": 46,
      "outputs": []
    },
    {
      "cell_type": "code",
      "metadata": {
        "id": "ZlhUb7j9EnAi"
      },
      "source": [
        "x = df.drop(['Survived', 'PassengerId'], axis=1)\n",
        "y = df[\"Survived\"]\n",
        "\n",
        "model_train = model.fit(x, y, epochs=500, batch_size=50, verbose=0, validation_split=0.06)\n",
        "#verbose=0 to see all epochs line"
      ],
      "execution_count": 24,
      "outputs": []
    },
    {
      "cell_type": "code",
      "metadata": {
        "colab": {
          "base_uri": "https://localhost:8080/",
          "height": 444
        },
        "id": "dhyJfK91HQHp",
        "outputId": "2b2e1f9f-facd-46a0-85d8-c3ca928f1def"
      },
      "source": [
        "import matplotlib.pyplot as plt\n",
        "\n",
        "from matplotlib.pyplot import figure\n",
        "figure(figsize=(8, 6), dpi=80)\n",
        "\n",
        "plt.plot(model_train.history['accuracy'], label='train')\n",
        "plt.plot(model_train.history['val_accuracy'], label='test')\n",
        "plt.title('Model accuaracy')\n",
        "plt.xlabel('Epoch number')\n",
        "plt.ylabel('Accuaracy')\n",
        "plt.legend(loc='lower right')\n",
        "plt.show()\n"
      ],
      "execution_count": 25,
      "outputs": [
        {
          "output_type": "display_data",
          "data": {
            "image/png": "[encoded data removed]",
            "text/plain": [
              "<Figure size 640x480 with 1 Axes>"
            ]
          },
          "metadata": {
            "tags": [],
            "needs_background": "light"
          }
        }
      ]
    },
    {
      "cell_type": "code",
      "metadata": {
        "id": "rZVye_59LOcT"
      },
      "source": [
        "model.save('titanic_NN.h5')"
      ],
      "execution_count": 26,
      "outputs": []
    },
    {
      "cell_type": "code",
      "metadata": {
        "id": "aqbZHvZVcPKF"
      },
      "source": [
        ""
      ],
      "execution_count": 26,
      "outputs": []
    }
  ]
}